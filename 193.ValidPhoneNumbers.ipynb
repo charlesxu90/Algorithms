{
 "cells": [
  {
   "cell_type": "markdown",
   "metadata": {},
   "source": [
    "Given a text file file.txt that contains list of phone numbers (one per line), write a one liner bash script to print all valid phone numbers.\n",
    "\n",
    "You may assume that a valid phone number must appear in one of the following two formats: (xxx) xxx-xxxx or xxx-xxx-xxxx. (x means a digit)\n",
    "\n",
    "You may also assume each line in the text file must not contain leading or trailing white spaces.\n",
    "\n",
    "Example:\n",
    "\n",
    "Assume that file.txt has the following content:\n",
    "```\n",
    "987-123-4567\n",
    "123 456 7890\n",
    "(123) 456-7890\n",
    "```\n",
    "Your script should output the following valid phone numbers:\n",
    "```\n",
    "987-123-4567\n",
    "(123) 456-7890\n",
    "```"
   ]
  },
  {
   "cell_type": "markdown",
   "metadata": {},
   "source": [
    "ONLY TWO CASES: xxx-xxx-xxxx OR (xxx) xxx-xxxx\n",
    "\n",
    "思路:使用的正则表达式匹配xxx-xxx-xxxx或者(xxx) xxx-xxxx两种情况 "
   ]
  },
  {
   "cell_type": "raw",
   "metadata": {},
   "source": [
    "awk '$0 ~ /^((([0-9]{3}-)|(\\([0-9]{3}\\) ))[0-9]{3}-[0-9]{4})$/ {print $0}' file.txt"
   ]
  },
  {
   "cell_type": "raw",
   "metadata": {},
   "source": [
    "grep -P '^(\\d{3}-|\\(\\d{3}\\) )\\d{3}-\\d{4}$' file.txt"
   ]
  }
 ],
 "metadata": {
  "kernelspec": {
   "display_name": "Python 3",
   "language": "python",
   "name": "python3"
  },
  "language_info": {
   "codemirror_mode": {
    "name": "ipython",
    "version": 3
   },
   "file_extension": ".py",
   "mimetype": "text/x-python",
   "name": "python",
   "nbconvert_exporter": "python",
   "pygments_lexer": "ipython3",
   "version": "3.6.0"
  }
 },
 "nbformat": 4,
 "nbformat_minor": 2
}
