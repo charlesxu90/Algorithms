{
 "cells": [
  {
   "cell_type": "markdown",
   "metadata": {},
   "source": [
    "Given n points on a 2D plane, find the maximum number of points that lie on the same straight line.\n",
    "\n",
    "Example 1:\n",
    "```\n",
    "Input: [[1,1],[2,2],[3,3]]\n",
    "Output: 3\n",
    "\n",
    "Explanation:\n",
    "^\n",
    "|\n",
    "|        o\n",
    "|     o\n",
    "|  o  \n",
    "+------------->\n",
    "0  1  2  3  4\n",
    "```\n",
    "Example 2:\n",
    "```\n",
    "Input: [[1,1],[3,2],[5,3],[4,1],[2,3],[1,4]]\n",
    "Output: 4\n",
    "\n",
    "Explanation:\n",
    "^\n",
    "|\n",
    "|  o\n",
    "|     o        o\n",
    "|        o\n",
    "|  o        o\n",
    "+------------------->\n",
    "0  1  2  3  4  5  6\n",
    "```\n",
    "这里我们可以用斜率来记录两条边是否在同一条直线。如果考虑再细一点，由于double有精度的问题，斜率最后用分数来表示。"
   ]
  },
  {
   "cell_type": "code",
   "execution_count": 1,
   "metadata": {
    "collapsed": true
   },
   "outputs": [],
   "source": [
    "from decimal import *\n",
    "\n",
    "# Definition for a point.\n",
    "class Point(object):\n",
    "    def __init__(self, a=0, b=0):\n",
    "        self.x = a\n",
    "        self.y = b\n",
    "\n",
    "\n",
    "class Solution(object):\n",
    "    def maxPoints(self, points):\n",
    "        \"\"\"\n",
    "        :type points: List[Point]\n",
    "        :rtype: int\n",
    "        \"\"\"\n",
    "        size = len(points)\n",
    "        if size < 3:\n",
    "            return size\n",
    "        ans = 0\n",
    "        for i in range(size):\n",
    "            d = {'inf': 0}\n",
    "            same_point = 1\n",
    "            for j in range(size):\n",
    "                print(\"i:\" +  str(points[i].x) + \" \" + str(points[i].y))\n",
    "                print(\"j:\" + str(points[j].x) + \" \" + str(points[j].y))\n",
    "\n",
    "                if i == j:\n",
    "                    continue\n",
    "                elif points[i].x == points[j].x and points[i].y != points[j].y:\n",
    "                    d['inf'] += 1\n",
    "                elif points[i].x != points[j].x:\n",
    "                    k = Decimal(points[i].y - points[j].y) / (points[i].x - points[j].x)\n",
    "                    print(k)\n",
    "                    if k in d:\n",
    "                        d[k] += 1\n",
    "                    else:\n",
    "                        d[k] = 1\n",
    "                else:\n",
    "                    same_point += 1\n",
    "            ans = max(ans, max(d.values()) + same_point)\n",
    "        return ans"
   ]
  },
  {
   "cell_type": "code",
   "execution_count": 2,
   "metadata": {
    "collapsed": false
   },
   "outputs": [
    {
     "name": "stdout",
     "output_type": "stream",
     "text": [
      "i:0 0\n",
      "j:0 0\n",
      "i:0 0\n",
      "j:94911151 94911150\n",
      "0.9999999894638302300221814821\n",
      "i:0 0\n",
      "j:94911152 94911151\n",
      "0.9999999894638303410330537343\n",
      "i:94911151 94911150\n",
      "j:0 0\n",
      "0.9999999894638302300221814821\n",
      "i:94911151 94911150\n",
      "j:94911151 94911150\n",
      "i:94911151 94911150\n",
      "j:94911152 94911151\n",
      "1\n",
      "i:94911152 94911151\n",
      "j:0 0\n",
      "0.9999999894638303410330537343\n",
      "i:94911152 94911151\n",
      "j:94911151 94911150\n",
      "1\n",
      "i:94911152 94911151\n",
      "j:94911152 94911151\n",
      "2\n"
     ]
    }
   ],
   "source": [
    "# [[0,0],[94911151,94911150],[94911152,94911151]]\n",
    "if __name__ == '__main__':\n",
    "    points = [Point(0,0), Point(94911151,94911150), Point(94911152,94911151)]\n",
    "    ret = Solution().maxPoints(points)\n",
    "    print(ret)\n"
   ]
  },
  {
   "cell_type": "markdown",
   "metadata": {
    "collapsed": true
   },
   "source": [
    "Submission Result: \n",
    "## <span style=\"color:blue\"> <em> Wrong Answer </em> </span>\n",
    "```\n",
    "Input:\n",
    "[[0,0],[94911151,94911150],[94911152,94911151]]\n",
    "Output:\n",
    "3\n",
    "Expected:\n",
    "2\n",
    "```"
   ]
  },
  {
   "cell_type": "code",
   "execution_count": null,
   "metadata": {
    "collapsed": true
   },
   "outputs": [],
   "source": []
  }
 ],
 "metadata": {
  "kernelspec": {
   "display_name": "Python 3",
   "language": "python",
   "name": "python3"
  },
  "language_info": {
   "codemirror_mode": {
    "name": "ipython",
    "version": 3
   },
   "file_extension": ".py",
   "mimetype": "text/x-python",
   "name": "python",
   "nbconvert_exporter": "python",
   "pygments_lexer": "ipython3",
   "version": "3.6.0"
  }
 },
 "nbformat": 4,
 "nbformat_minor": 2
}
