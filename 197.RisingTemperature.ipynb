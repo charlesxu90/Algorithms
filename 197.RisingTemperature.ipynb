{
 "cells": [
  {
   "cell_type": "markdown",
   "metadata": {},
   "source": [
    "Given a Weather table, write a SQL query to find all dates' Ids with higher temperature compared to its previous (yesterday's) dates.\n",
    "```\n",
    "+---------+------------------+------------------+\n",
    "| Id(INT) | RecordDate(DATE) | Temperature(INT) |\n",
    "+---------+------------------+------------------+\n",
    "|       1 |       2015-01-01 |               10 |\n",
    "|       2 |       2015-01-02 |               25 |\n",
    "|       3 |       2015-01-03 |               20 |\n",
    "|       4 |       2015-01-04 |               30 |\n",
    "+---------+------------------+------------------+\n",
    "```\n",
    "For example, return the following Ids for the above Weather table:\n",
    "```\n",
    "+----+\n",
    "| Id |\n",
    "+----+\n",
    "|  2 |\n",
    "|  4 |\n",
    "+----+\n",
    "```"
   ]
  },
  {
   "cell_type": "raw",
   "metadata": {},
   "source": [
    "select distinct t1.Id from Weather t1, Weather t2 where\n",
    "t1.Temperature > t2.Temperature and DATEDIFF(t1.RecordDate, t2.RecordDate) = 1;"
   ]
  }
 ],
 "metadata": {
  "kernelspec": {
   "display_name": "Python 3",
   "language": "python",
   "name": "python3"
  },
  "language_info": {
   "codemirror_mode": {
    "name": "ipython",
    "version": 3
   },
   "file_extension": ".py",
   "mimetype": "text/x-python",
   "name": "python",
   "nbconvert_exporter": "python",
   "pygments_lexer": "ipython3",
   "version": "3.6.0"
  }
 },
 "nbformat": 4,
 "nbformat_minor": 2
}
