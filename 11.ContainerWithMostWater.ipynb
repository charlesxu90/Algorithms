{
 "cells": [
  {
   "cell_type": "markdown",
   "metadata": {},
   "source": [
    "Given n non-negative integers a1, a2, ..., an , where each represents a point at coordinate (i, ai). n vertical lines are drawn such that the two endpoints of line i is at (i, ai) and (i, 0). Find two lines, which together with x-axis forms a container, such that the container contains the most water.\n",
    "\n",
    "Note: You may not slant the container and n is at least 2.\n",
    "\n",
    "![img](./images/container-with-most-water.jpg)\n",
    "The above vertical lines are represented by array [1,8,6,2,5,4,8,3,7]. In this case, the max area of water (blue section) the container can contain is 49.\n",
    "\n",
    " \n",
    "\n",
    "Example:\n",
    "```\n",
    "Input: [1,8,6,2,5,4,8,3,7]\n",
    "Output: 49\n",
    "```"
   ]
  },
  {
   "cell_type": "code",
   "execution_count": 6,
   "metadata": {
    "collapsed": true
   },
   "outputs": [],
   "source": [
    "# Solution 0: intuitive Solution\n",
    "class Solution:\n",
    "    def maxArea(self, height):\n",
    "        \"\"\"\n",
    "        :type height: List[int]\n",
    "        :rtype: int\n",
    "        \"\"\"\n",
    "        mArea = 0\n",
    "        n = len(height)\n",
    "        for i in range(n -1):\n",
    "            for j in range(i,n):\n",
    "                mArea = max((j-i)*min(height[j] ,height[i]), mArea)\n",
    "        return mArea"
   ]
  },
  {
   "cell_type": "code",
   "execution_count": 7,
   "metadata": {
    "collapsed": true
   },
   "outputs": [],
   "source": [
    "# Solution 1: Begin from ends, keep the higher border, and move the shorter one\n",
    "class Solution:\n",
    "    def maxArea(self, height):\n",
    "        \"\"\"\n",
    "        :type height: List[int]\n",
    "        :rtype: int\n",
    "        \"\"\"\n",
    "        n = len(height)\n",
    "        start = 0\n",
    "        end = n-1\n",
    "        ret = 0\n",
    "        while start < end :\n",
    "            area = (end - start) * min(height[start], height[end])\n",
    "            if area > ret:\n",
    "                ret = area\n",
    "            if height[start] < height[end]:\n",
    "                start = start +1\n",
    "            else:\n",
    "                end = end - 1\n",
    "        return ret"
   ]
  },
  {
   "cell_type": "markdown",
   "metadata": {},
   "source": [
    "### Proof for Solution 1\n",
    "Proved by contradiction:\n",
    "\n",
    "Suppose the returned result is not the optimal solution. \n",
    "Then there must exist an optimal solution, say a container with a_ol and a_or (left and right respectively), such that it has a greater volume than the one we got. \n",
    "\n",
    "Since our algorithm stops only if the two pointers meet. So, we must have visited one of them but not the other.  let's say we visited a_ol but not a_or. When a pointer stops at a_ol, it won't move until:\n",
    "\n",
    "* 1 The other pointer also points to a_ol. \n",
    "In this case, iteration ends. But the other pointer must have visited a_or on its way from right end to a_ol. Contradiction to our assumption that we didn't visit a_or.\n",
    "\n",
    "* 2.2 The other pointer arrives at a value, say a_rr, that is greater than a_ol before it reaches a_or.\n",
    "In this case, we does move a_ol. But notice that the volume of a_ol and a_rr is already greater than a_ol and a_or (as it is wider and heigher), which means that a_ol and a_or is not the optimal solution -- Contradiction!\n",
    "\n",
    "Both cases arrive at a contradiction."
   ]
  },
  {
   "cell_type": "code",
   "execution_count": null,
   "metadata": {
    "collapsed": true
   },
   "outputs": [],
   "source": []
  }
 ],
 "metadata": {
  "kernelspec": {
   "display_name": "Python 3",
   "language": "python",
   "name": "python3"
  },
  "language_info": {
   "codemirror_mode": {
    "name": "ipython",
    "version": 3
   },
   "file_extension": ".py",
   "mimetype": "text/x-python",
   "name": "python",
   "nbconvert_exporter": "python",
   "pygments_lexer": "ipython3",
   "version": "3.6.0"
  }
 },
 "nbformat": 4,
 "nbformat_minor": 2
}
