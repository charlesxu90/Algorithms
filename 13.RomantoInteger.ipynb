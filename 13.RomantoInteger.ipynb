{
 "cells": [
  {
   "cell_type": "markdown",
   "metadata": {},
   "source": [
    "Roman numerals are represented by seven different symbols: I, V, X, L, C, D and M.\n",
    "```\n",
    "Symbol       Value\n",
    "I             1\n",
    "V             5\n",
    "X             10\n",
    "L             50\n",
    "C             100\n",
    "D             500\n",
    "M             1000\n",
    "```\n",
    "For example, two is written as II in Roman numeral, just two one's added together. Twelve is written as, XII, which is simply X + II. The number twenty seven is written as XXVII, which is XX + V + II.\n",
    "\n",
    "Roman numerals are usually written largest to smallest from left to right. However, the numeral for four is not IIII. Instead, the number four is written as IV. Because the one is before the five we subtract it making four. The same principle applies to the number nine, which is written as IX. There are six instances where subtraction is used:\n",
    "\n",
    "- I can be placed before V (5) and X (10) to make 4 and 9. \n",
    "- X can be placed before L (50) and C (100) to make 40 and 90. \n",
    "- C can be placed before D (500) and M (1000) to make 400 and 900.\n",
    "\n",
    "Given a roman numeral, convert it to an integer. Input is guaranteed to be within the range from 1 to 3999.\n",
    "\n",
    "Example 1:\n",
    "```\n",
    "Input: \"III\"\n",
    "Output: 3\n",
    "```\n",
    "Example 2:\n",
    "```\n",
    "Input: \"IV\"\n",
    "Output: 4\n",
    "```\n",
    "Example 3:\n",
    "```\n",
    "Input: \"IX\"\n",
    "Output: 9\n",
    "```\n",
    "Example 4:\n",
    "```\n",
    "Input: \"LVIII\"\n",
    "Output: 58\n",
    "Explanation: C = 100, L = 50, XXX = 30 and III = 3.\n",
    "```\n",
    "Example 5:\n",
    "```\n",
    "Input: \"MCMXCIV\"\n",
    "Output: 1994\n",
    "Explanation: M = 1000, CM = 900, XC = 90 and IV = 4.\n",
    "```"
   ]
  },
  {
   "cell_type": "code",
   "execution_count": 56,
   "metadata": {
    "collapsed": false
   },
   "outputs": [],
   "source": [
    "# Solution 1: Using regex and value list\n",
    "import re\n",
    "class Solution:\n",
    "    def romanToInt(self, s):\n",
    "        \"\"\"\n",
    "        :type s: str\n",
    "        :rtype: int\n",
    "        \"\"\"\n",
    "        M = [\"MMM\", \"MM\", \"M\"]\n",
    "        C = [\"CM\", \"DCCC\", \"DCC\", \"DC\", \"D\", \"CD\", \"CCC\", \"CC\", \"C\"]\n",
    "        X = [\"XC\", \"LXXX\", \"LXX\", \"LX\", \"L\", \"XL\", \"XXX\", \"XX\", \"X\"]\n",
    "        I = [\"IX\", \"VIII\", \"VII\", \"VI\", \"V\", \"IV\", \"III\", \"II\", \"I\"]\n",
    "        SYMB = [M, C, X, I]\n",
    "\n",
    "        ret = 0\n",
    "        for j in range(len(SYMB)):\n",
    "            for i in range(len(SYMB[j])):\n",
    "                m = re.compile(SYMB[j][i]).match(s)\n",
    "                if m is not None:\n",
    "                    ret = ret + (len(SYMB[j]) -i) * pow(10, (len(SYMB)-j-1) )\n",
    "                    s = s[m.end():]\n",
    "                    break\n",
    "        return ret"
   ]
  },
  {
   "cell_type": "code",
   "execution_count": 53,
   "metadata": {
    "collapsed": false
   },
   "outputs": [],
   "source": [
    "# Solution 2: Using map, find the rule that if the latter is bigger than the previous, then need to divide\n",
    "class Solution:\n",
    "    def romanToInt(self, s):\n",
    "        result = 0\n",
    "        m = {'I':1, 'V':5, 'X':10, 'L':50, 'C':100, 'D':500, 'M':1000}\n",
    "        for i in range(len(s)):\n",
    "            if i>0 and m[s[i]] > m[s[i-1]]: \n",
    "                result = result + m[s[i]]-2 * m[s[i-1]]\n",
    "            else:\n",
    "                result += m[s[i]]\n",
    "                \n",
    "        return result\n"
   ]
  },
  {
   "cell_type": "code",
   "execution_count": 57,
   "metadata": {
    "collapsed": false
   },
   "outputs": [
    {
     "name": "stdout",
     "output_type": "stream",
     "text": [
      "58\n"
     ]
    }
   ],
   "source": [
    "# \"LVIII\"\n",
    "# Expected:58\n",
    "\n",
    "if __name__ == \"__main__\":\n",
    "    print(Solution().romanToInt(\"LVIII\"))"
   ]
  },
  {
   "cell_type": "code",
   "execution_count": 55,
   "metadata": {
    "collapsed": false
   },
   "outputs": [
    {
     "name": "stdout",
     "output_type": "stream",
     "text": [
      "4\n"
     ]
    }
   ],
   "source": [
    "# Input:\"IV\"\n",
    "# Output:5\n",
    "# Expected:4\n",
    "\n",
    "if __name__ == \"__main__\":\n",
    "    print(Solution().romanToInt(\"IV\"))"
   ]
  },
  {
   "cell_type": "code",
   "execution_count": null,
   "metadata": {
    "collapsed": true
   },
   "outputs": [],
   "source": []
  }
 ],
 "metadata": {
  "kernelspec": {
   "display_name": "Python 3",
   "language": "python",
   "name": "python3"
  },
  "language_info": {
   "codemirror_mode": {
    "name": "ipython",
    "version": 3
   },
   "file_extension": ".py",
   "mimetype": "text/x-python",
   "name": "python",
   "nbconvert_exporter": "python",
   "pygments_lexer": "ipython3",
   "version": "3.6.0"
  }
 },
 "nbformat": 4,
 "nbformat_minor": 2
}
