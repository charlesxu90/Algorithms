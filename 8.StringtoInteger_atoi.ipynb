{
 "cells": [
  {
   "cell_type": "markdown",
   "metadata": {},
   "source": [
    "Implement atoi which converts a string to an integer.\n",
    "\n",
    "The function first discards as many whitespace characters as necessary until the first non-whitespace character is found. Then, starting from this character, takes an optional initial plus or minus sign followed by as many numerical digits as possible, and interprets them as a numerical value.\n",
    "\n",
    "The string can contain additional characters after those that form the integral number, which are ignored and have no effect on the behavior of this function.\n",
    "\n",
    "If the first sequence of non-whitespace characters in str is not a valid integral number, or if no such sequence exists because either str is empty or it contains only whitespace characters, no conversion is performed.\n",
    "\n",
    "If no valid conversion could be performed, a zero value is returned.\n",
    "\n",
    "Note:\n",
    "\n",
    "Only the space character ' ' is considered as whitespace character.\n",
    "Assume we are dealing with an environment which could only store integers within the 32-bit signed integer range: [−2^31,  2^31 − 1]. If the numerical value is out of the range of representable values, INT_MAX (2^31 − 1) or INT_MIN (−2^31) is returned.\n",
    "Example 1:\n",
    "```\n",
    "Input: \"42\"\n",
    "Output: 42\n",
    "```\n",
    "Example 2:\n",
    "```\n",
    "Input: \"-42\"\n",
    "Output: -42\n",
    "```\n",
    "Explanation: The first non-whitespace character is '-', which is the minus sign.\n",
    "             Then take as many numerical digits as possible, which gets 42.\n",
    "Example 3:\n",
    "```\n",
    "Input: \"4193 with words\"\n",
    "Output: 4193\n",
    "```\n",
    "Explanation: Conversion stops at digit '3' as the next character is not a numerical digit.\n",
    "Example 4:\n",
    "```\n",
    "Input: \"words and 987\"\n",
    "Output: 0\n",
    "```\n",
    "Explanation: The first non-whitespace character is 'w', which is not a numerical \n",
    "             digit or a +/- sign. Therefore no valid conversion could be performed.\n",
    "Example 5:\n",
    "```\n",
    "Input: \"-91283472332\"\n",
    "Output: -2147483648\n",
    "```\n",
    "Explanation: The number \"-91283472332\" is out of the range of a 32-bit signed integer.\n",
    "             Thefore INT_MIN (−231) is returned."
   ]
  },
  {
   "cell_type": "code",
   "execution_count": 2,
   "metadata": {
    "collapsed": false
   },
   "outputs": [],
   "source": [
    "class Solution:\n",
    "    def myAtoi(self, s):\n",
    "        \"\"\"\n",
    "        :type str: s\n",
    "        :rtype: int\n",
    "        \"\"\"\n",
    "        s = s.strip()\n",
    "        n = len(s)\n",
    "        sign = True # positive true, negative False\n",
    "        if n == 0:\n",
    "            return 0\n",
    "\n",
    "        i = 0\n",
    "        ret = 0\n",
    "        if s[i] == '-':\n",
    "            sign = False\n",
    "            i = i + 1\n",
    "        elif s[i] =='+':\n",
    "            i = i + 1\n",
    "        \n",
    "        while(i < n):\n",
    "            if (s[i] < '0' or s[i] >'9'):\n",
    "                break\n",
    "            v = int(s[i])\n",
    "            ret = ret*10 + v\n",
    "            i = i + 1\n",
    "        \n",
    "        if sign is False:\n",
    "            ret = -ret\n",
    "        if ret >= 2147483647:\n",
    "            ret = 2147483647\n",
    "        elif ret < -2147483648:\n",
    "            ret = -2147483648\n",
    "        \n",
    "        return ret"
   ]
  },
  {
   "cell_type": "code",
   "execution_count": null,
   "metadata": {
    "collapsed": true
   },
   "outputs": [],
   "source": []
  }
 ],
 "metadata": {
  "kernelspec": {
   "display_name": "Python 3",
   "language": "python",
   "name": "python3"
  },
  "language_info": {
   "codemirror_mode": {
    "name": "ipython",
    "version": 3
   },
   "file_extension": ".py",
   "mimetype": "text/x-python",
   "name": "python",
   "nbconvert_exporter": "python",
   "pygments_lexer": "ipython3",
   "version": "3.6.0"
  }
 },
 "nbformat": 4,
 "nbformat_minor": 2
}
