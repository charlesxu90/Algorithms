{
 "cells": [
  {
   "cell_type": "markdown",
   "metadata": {},
   "source": [
    "Given a string s, find the longest palindromic substring in s. You may assume that the maximum length of s is 1000.\n",
    "\n",
    "Example 1:\n",
    "```\n",
    "Input: \"babad\"\n",
    "Output: \"bab\"\n",
    "```\n",
    "Note: \"aba\" is also a valid answer.\n",
    "Example 2:\n",
    "```\n",
    "Input: \"cbbd\"\n",
    "Output: \"bb\"\n",
    "```"
   ]
  },
  {
   "cell_type": "markdown",
   "metadata": {},
   "source": [
    "### Solution 1: Standard method, expanding from the center"
   ]
  },
  {
   "cell_type": "code",
   "execution_count": 1,
   "metadata": {
    "collapsed": false
   },
   "outputs": [],
   "source": [
    "# 回纹序列\n",
    "# 解法一：比较好的办法：从中间向两边扩展，找到并返回最长的字符串\n",
    "\n",
    "class Solution(object):\n",
    "    def longestPalindrome(self, s):\n",
    "        \"\"\"\n",
    "        :type s: str\n",
    "        :rtype: str\n",
    "        \"\"\"\n",
    "        ret = p_str = \"\"\n",
    "        for i in range(len(s)):\n",
    "            p_str = self.getPalindrome(s, i, i)\n",
    "            if len(p_str) >= len(ret):\n",
    "                ret = p_str\n",
    "            p_str = self.getPalindrome(s, i, i+1)\n",
    "            if len(p_str) >= len(ret):\n",
    "                ret = p_str\n",
    "        return ret\n",
    "\n",
    "\n",
    "    def getPalindrome(self, s, l, r):\n",
    "        \"\"\"\n",
    "        :type s: str\n",
    "        :type l: int\n",
    "        :type r: int\n",
    "        :rtype: str\n",
    "        \"\"\"\n",
    "        while(l >= 0 and r < len(s) and s[l] == s[r]):\n",
    "            l = l - 1;\n",
    "            r = r + 1;\n",
    "        return s[l+1:r] # 这里的+1 非常关键，由于在while循环中已经减1，此处需要加1"
   ]
  },
  {
   "cell_type": "code",
   "execution_count": 2,
   "metadata": {
    "collapsed": false
   },
   "outputs": [
    {
     "name": "stdout",
     "output_type": "stream",
     "text": [
      "aba\n"
     ]
    }
   ],
   "source": [
    "if __name__ ==\"__main__\":\n",
    "    t_str = \"babad\"\n",
    "    print(Solution().longestPalindrome(t_str))"
   ]
  },
  {
   "cell_type": "markdown",
   "metadata": {},
   "source": [
    "### Approach 2: Dynamic Programming\n",
    "To improve over the brute force solution, we first observe how we can avoid unnecessary re-computation while validating palindromes. Consider the case \"ababa\". If we already knew that \"bab\" is a palindrome, it is obvious that \"ababa\" must be a palindrome since the two left and right end letters are the same.\n",
    "\n",
    "We define P(i,j)P(i,j) as following:\n",
    "\\begin{equation}\n",
    "P(𝑖,𝑗) =\n",
    "    \\begin{cases}\n",
    "      true & \\text{if the substring 𝑆𝑖…𝑆𝑗 is a palindrome}\\\\\n",
    "      false & \\text{otherwise}\n",
    "    \\end{cases}\n",
    "\\end{equation}\n",
    "\n",
    "Therefore,\n",
    "$P(i, j) = P(i+1, j-1) \\text{ and } S_i == S_j$\n",
    "\n",
    "The base cases are:\n",
    "$P(i, i) = true$, \n",
    "$P(i, i+1) = ( S_i == S_{i+1} )$\n",
    "\n",
    "This yields a straight forward DP solution, which we first initialize the one and two letters palindromes, and work our way up finding all three letters palindromes, and so on...\n",
    "\n",
    "Complexity Analysis:\n",
    "- Time complexity : $O(n^2)$. This gives us a runtime complexity of $O(n^2)$.\n",
    "- Space complexity : $O(n^2)$. It uses $O(n^2)$ space to store the table."
   ]
  },
  {
   "cell_type": "code",
   "execution_count": 3,
   "metadata": {
    "collapsed": false
   },
   "outputs": [],
   "source": [
    "# 回纹序列\n",
    "# 解法二：动态规划方法 Dynamic Programming Method\n",
    "import numpy as np\n",
    "\n",
    "class Solution(object):\n",
    "    def longestPalindrome(self, s):\n",
    "        n = len(s)\n",
    "        P = np.zeros((n, n), dtype=bool)\n",
    "        max_len = 1\n",
    "        start = 0\n",
    "\n",
    "        for i in range(n):\n",
    "            P[i,i] = True\n",
    "            for j in range(i):\n",
    "                if s[j] == s[i] and j == i-1: # babaad, i=5, j=4\n",
    "                    P[j,i] = True\n",
    "                if s[j] == s[i] and P[j+1,i-1]: # babaad, i=4,j=2\n",
    "                    P[j,i] = True\n",
    "               \n",
    "                if P[j, i] and (i-j+1) >= max_len:\n",
    "                    # if currently the longest palindrome, store the length and start\n",
    "                    max_len = i-j+1\n",
    "                    start = j\n",
    "   \n",
    "        return s[start:start + max_len]"
   ]
  },
  {
   "cell_type": "code",
   "execution_count": 4,
   "metadata": {
    "collapsed": false
   },
   "outputs": [
    {
     "name": "stdout",
     "output_type": "stream",
     "text": [
      "aba\n"
     ]
    }
   ],
   "source": [
    "if __name__ ==\"__main__\":\n",
    "    t_str = \"babad\"\n",
    "    print(Solution().longestPalindrome(t_str))"
   ]
  },
  {
   "cell_type": "code",
   "execution_count": null,
   "metadata": {
    "collapsed": true
   },
   "outputs": [],
   "source": []
  }
 ],
 "metadata": {
  "kernelspec": {
   "display_name": "Python 3",
   "language": "python",
   "name": "python3"
  },
  "language_info": {
   "codemirror_mode": {
    "name": "ipython",
    "version": 3
   },
   "file_extension": ".py",
   "mimetype": "text/x-python",
   "name": "python",
   "nbconvert_exporter": "python",
   "pygments_lexer": "ipython3",
   "version": "3.6.0"
  }
 },
 "nbformat": 4,
 "nbformat_minor": 2
}
