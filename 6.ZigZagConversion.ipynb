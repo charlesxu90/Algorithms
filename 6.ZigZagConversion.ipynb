{
 "cells": [
  {
   "cell_type": "markdown",
   "metadata": {},
   "source": [
    "The string \"PAYPALISHIRING\" is written in a zigzag pattern on a given number of rows like this: (you may want to display this pattern in a fixed font for better legibility)\n",
    "```\n",
    "P   A   H   N\n",
    "A P L S I I G\n",
    "Y   I   R\n",
    "```\n",
    "And then read line by line: \"PAHNAPLSIIGYIR\"\n",
    "\n",
    "Write the code that will take a string and make this conversion given a number of rows:\n",
    "\n",
    "string convert(string s, int numRows);\n",
    "Example 1:\n",
    "```\n",
    "Input: s = \"PAYPALISHIRING\", numRows = 3\n",
    "Output: \"PAHNAPLSIIGYIR\"\n",
    "```\n",
    "Example 2:\n",
    "```\n",
    "Input: s = \"PAYPALISHIRING\", numRows = 4\n",
    "Output: \"PINALSIGYAHRPI\"\n",
    "```\n",
    "Explanation:\n",
    "```\n",
    "P     I    N\n",
    "A   L S  I G\n",
    "Y A   H R\n",
    "P     I\n",
    "```\n",
    "\n",
    "Explanation:\n",
    "![explanation image of zigzag conversion](./images/zigzagConversion.png)\n"
   ]
  },
  {
   "cell_type": "markdown",
   "metadata": {},
   "source": [
    "* In case the image above doesn't show up:\n",
    "![alt text][logo]\n",
    "[Logo]:https://img-blog.csdn.net/20141026161841654?watermark/2/text/aHR0cDovL2Jsb2cuY3Nkbi5uZXQvbGppYWJpbg==/font/5a6L5L2T/fontsize/400/fill/I0JBQkFCMA==/dissolve/70/gravity/Center \"Explanation image\"\n"
   ]
  },
  {
   "cell_type": "code",
   "execution_count": 2,
   "metadata": {
    "collapsed": false
   },
   "outputs": [],
   "source": [
    "class Solution(object):\n",
    "    def convert(self, s, numRows):\n",
    "        \"\"\"\n",
    "        :type s: str\n",
    "        :type numRows: int\n",
    "        :rtype: str\n",
    "        \"\"\"\n",
    "        if numRows <= 1:\n",
    "            return s\n",
    "        \n",
    "        ret = [\"\"] * numRows\n",
    "        n = len(s)\n",
    "        c = 2*(numRows - 1)  # zigzag cycles\n",
    "        \n",
    "        for i in range(n):\n",
    "            rem = i%c\n",
    "            for j in range(numRows):\n",
    "                if rem < numRows and rem == j : # down half cycle\n",
    "                    ret[j] = ret[j] + s[i]\n",
    "                elif rem >= numRows and  2*(numRows - 1) == rem + j: # up half cycle\n",
    "                    ret[j] = ret[j] + s[i]\n",
    "        return \"\".join(ret)"
   ]
  },
  {
   "cell_type": "code",
   "execution_count": 6,
   "metadata": {
    "collapsed": true
   },
   "outputs": [],
   "source": [
    "class Solution(object):\n",
    "    def convert(self, s, numRows):\n",
    "        \"\"\"\n",
    "        :type s: str\n",
    "        :type numRows: int\n",
    "        :rtype: str\n",
    "        \"\"\"\n",
    "        if len(s) < numRows or numRows <= 1:\n",
    "            return s\n",
    "        \n",
    "        c = 2*(numRows - 1)  # zigzag cycles\n",
    "        ret = [\"\"] * numRows\n",
    "        \n",
    "        for i in range(len(s)):\n",
    "            rem = i%c\n",
    "            if (rem < numRows): # same as above, but no j. A For-loop removed\n",
    "                ret[rem] = ret[rem] + s[i] \n",
    "            elif rem >= numRows:\n",
    "                ret[c - rem] = ret[c-rem] + s[i]\n",
    "            \n",
    "        return \"\".join(ret)"
   ]
  },
  {
   "cell_type": "code",
   "execution_count": 7,
   "metadata": {
    "collapsed": false
   },
   "outputs": [
    {
     "name": "stdout",
     "output_type": "stream",
     "text": [
      "PINALSIGYHPI\n"
     ]
    }
   ],
   "source": [
    "if __name__ == \"__main__\":\n",
    "    s = \"PAYPALISHIRING\"\n",
    "    numRows = 4\n",
    "    print(Solution().convert(s,4))\n",
    "#Output: \"PINALSIGYAHRPI\""
   ]
  },
  {
   "cell_type": "code",
   "execution_count": null,
   "metadata": {
    "collapsed": true
   },
   "outputs": [],
   "source": []
  }
 ],
 "metadata": {
  "kernelspec": {
   "display_name": "Python 3",
   "language": "python",
   "name": "python3"
  },
  "language_info": {
   "codemirror_mode": {
    "name": "ipython",
    "version": 3
   },
   "file_extension": ".py",
   "mimetype": "text/x-python",
   "name": "python",
   "nbconvert_exporter": "python",
   "pygments_lexer": "ipython3",
   "version": "3.6.0"
  }
 },
 "nbformat": 4,
 "nbformat_minor": 2
}
