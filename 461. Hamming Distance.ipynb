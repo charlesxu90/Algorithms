{
 "cells": [
  {
   "cell_type": "markdown",
   "metadata": {},
   "source": [
    "The Hamming distance between two integers is the number of positions at which the corresponding bits are different.\n",
    "\n",
    "Given two integers x and y, calculate the Hamming distance.\n",
    "\n",
    "Note:\n",
    "```javascript\n",
    "0 ≤ x, y < 231.\n",
    "```\n",
    "Example:\n",
    "```javascript\n",
    "Input: x = 1, y = 4\n",
    "\n",
    "Output: 2\n",
    "```\n",
    "Explanation:\n",
    "```javascript\n",
    "1   (0 0 0 1)\n",
    "4   (0 1 0 0)\n",
    "       ↑   ↑\n",
    "```\n",
    "The above arrows point to positions where the corresponding bits are different."
   ]
  },
  {
   "cell_type": "code",
   "execution_count": 4,
   "metadata": {
    "collapsed": true
   },
   "outputs": [],
   "source": [
    "class Solution(object):\n",
    "    def hammingDistance(self, x, y):\n",
    "        \"\"\"\n",
    "        :type x: int\n",
    "        :type y: int\n",
    "        :rtype: int\n",
    "        \"\"\"\n",
    "        assert len(x) == len(y)\n",
    "        return  sum(c1 != c2 for c1, c2 in zip(x, y))"
   ]
  },
  {
   "cell_type": "code",
   "execution_count": 9,
   "metadata": {
    "collapsed": true
   },
   "outputs": [],
   "source": [
    "# Approach #1 : We could broadcast them into binary bits & count number of different bits, like so -\n",
    "import numpy as np\n",
    "class Solution(object):\n",
    "    def hammingDistance(self, x, y):\n",
    "        r = (1 << np.arange(8))[:,None]\n",
    "        return np.count_nonzero( (x & r) != (y & r) )"
   ]
  },
  {
   "cell_type": "code",
   "execution_count": 11,
   "metadata": {
    "collapsed": true
   },
   "outputs": [],
   "source": [
    "# Approach #2 : Using bitwise-xor operation, we can find out the number of different binary bits between a and b -\n",
    "import numpy as np\n",
    "class Solution(object):\n",
    "    def hammingDistance(self, x, y):\n",
    "        r = (1 << np.arange(8))[:,None]\n",
    "        return np.count_nonzero((np.bitwise_xor(x,y) & r) != 0)"
   ]
  },
  {
   "cell_type": "code",
   "execution_count": 12,
   "metadata": {
    "collapsed": false
   },
   "outputs": [
    {
     "name": "stdout",
     "output_type": "stream",
     "text": [
      "2\n"
     ]
    }
   ],
   "source": [
    "if __name__ == '__main__':\n",
    "    print(Solution().hammingDistance(2,4))"
   ]
  },
  {
   "cell_type": "code",
   "execution_count": null,
   "metadata": {
    "collapsed": true
   },
   "outputs": [],
   "source": []
  }
 ],
 "metadata": {
  "kernelspec": {
   "display_name": "Python 3",
   "language": "python",
   "name": "python3"
  },
  "language_info": {
   "codemirror_mode": {
    "name": "ipython",
    "version": 3
   },
   "file_extension": ".py",
   "mimetype": "text/x-python",
   "name": "python",
   "nbconvert_exporter": "python",
   "pygments_lexer": "ipython3",
   "version": "3.6.0"
  }
 },
 "nbformat": 4,
 "nbformat_minor": 2
}
