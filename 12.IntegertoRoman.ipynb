{
 "cells": [
  {
   "cell_type": "markdown",
   "metadata": {},
   "source": [
    "Roman numerals are represented by seven different symbols: I, V, X, L, C, D and M.\n",
    "```\n",
    "Symbol       Value\n",
    "I             1\n",
    "V             5\n",
    "X             10\n",
    "L             50\n",
    "C             100\n",
    "D             500\n",
    "M             1000\n",
    "```\n",
    "For example, two is written as II in Roman numeral, just two one's added together. Twelve is written as, XII, which is simply X + II. The number twenty seven is written as XXVII, which is XX + V + II.\n",
    "\n",
    "Roman numerals are usually written largest to smallest from left to right. However, the numeral for four is not IIII. Instead, the number four is written as IV. Because the one is before the five we subtract it making four. The same principle applies to the number nine, which is written as IX. There are six instances where subtraction is used:\n",
    "\n",
    "I can be placed before V (5) and X (10) to make 4 and 9. \n",
    "X can be placed before L (50) and C (100) to make 40 and 90. \n",
    "C can be placed before D (500) and M (1000) to make 400 and 900.\n",
    "Given an integer, convert it to a roman numeral. Input is guaranteed to be within the range from 1 to 3999.\n",
    "\n",
    "Example 1:\n",
    "```\n",
    "Input: 3\n",
    "Output: \"III\"\n",
    "```\n",
    "Example 2:\n",
    "```\n",
    "Input: 4\n",
    "Output: \"IV\"\n",
    "```\n",
    "Example 3:\n",
    "```\n",
    "Input: 9\n",
    "Output: \"IX\"\n",
    "```\n",
    "Example 4:\n",
    "```\n",
    "Input: 58\n",
    "Output: \"LVIII\"\n",
    "Explanation: C = 100, L = 50, XXX = 30 and III = 3.\n",
    "```\n",
    "Example 5:\n",
    "```\n",
    "Input: 1994\n",
    "Output: \"MCMXCIV\"\n",
    "Explanation: M = 1000, CM = 900, XC = 90 and IV = 4.\n",
    "```"
   ]
  },
  {
   "cell_type": "code",
   "execution_count": 43,
   "metadata": {
    "collapsed": false
   },
   "outputs": [],
   "source": [
    "# Solution 1: intuitive way, replacing, with special cases handled\n",
    "class Solution:\n",
    "    def intToRoman(self, num):\n",
    "        \"\"\"\n",
    "        :type num: int\n",
    "        :rtype: str\n",
    "        \"\"\"\n",
    "        vals = [1, 5, 10, 50, 100, 500, 1000]\n",
    "        symbs = ['I', 'V', 'X', 'L', 'C', 'D', 'M']\n",
    "        \n",
    "        rem = num\n",
    "        i = len(vals)-1\n",
    "        ret = []\n",
    "        while(rem > 0 and i >= 0):\n",
    "            if rem >= vals[i]: # great case\n",
    "                k,rem = divmod(rem, vals[i])\n",
    "                for j in range(k):\n",
    "                    ret.append(symbs[i])\n",
    "            \n",
    "            if i >= 5 and rem >= vals[i]-vals[4]:# cases of 400,900\n",
    "                rem = rem - (vals[i] - vals[4])\n",
    "                ret.append(symbs[4])\n",
    "                ret.append(symbs[i])\n",
    "            elif i >= 3 and i < 5 and rem >= vals[i]-vals[2]:# cases of 40,90\n",
    "                rem = rem - (vals[i] - vals[2])\n",
    "                ret.append(symbs[2])\n",
    "                ret.append(symbs[i])\n",
    "            elif i >= 1 and i < 3 and rem >= vals[i]-vals[0]: # cases of 4,9\n",
    "                rem = rem - (vals[i]-vals[0])\n",
    "                ret.append(symbs[0])\n",
    "                ret.append(symbs[i])\n",
    "         \n",
    "            i = i-1\n",
    "        return \"\".join(ret)"
   ]
  },
  {
   "cell_type": "code",
   "execution_count": 44,
   "metadata": {
    "collapsed": false
   },
   "outputs": [
    {
     "name": "stdout",
     "output_type": "stream",
     "text": [
      "LVIII\n"
     ]
    }
   ],
   "source": [
    "# Input: 58\n",
    "# Output: \"LVIII\"\n",
    "# Explanation: C = 100, L = 50, XXX = 30 and III = 3.\n",
    "if __name__ == \"__main__\":\n",
    "    print(Solution().intToRoman(58))"
   ]
  },
  {
   "cell_type": "code",
   "execution_count": 49,
   "metadata": {
    "collapsed": false
   },
   "outputs": [],
   "source": [
    "# Solution 2: a much more simple solution\n",
    "class Solution(object):\n",
    "    def intToRoman(self, num):\n",
    "        \"\"\"\n",
    "        :type num: int\n",
    "        :rtype: str\n",
    "        \"\"\"\n",
    "        M = [\"\", \"M\", \"MM\", \"MMM\"]\n",
    "        C = [\"\", \"C\", \"CC\", \"CCC\", \"CD\", \"D\", \"DC\", \"DCC\", \"DCCC\", \"CM\"]\n",
    "        X = [\"\", \"X\", \"XX\", \"XXX\", \"XL\", \"L\", \"LX\", \"LXX\", \"LXXX\", \"XC\"]\n",
    "        I = [\"\", \"I\", \"II\", \"III\", \"IV\", \"V\", \"VI\", \"VII\", \"VIII\", \"IX\"]\n",
    "        \n",
    "        return M[num//1000] + C[(num%1000)//100] + X[(num%100)//10] + I[num%10]"
   ]
  },
  {
   "cell_type": "code",
   "execution_count": 50,
   "metadata": {
    "collapsed": false
   },
   "outputs": [
    {
     "name": "stdout",
     "output_type": "stream",
     "text": [
      "MCMXCIV\n"
     ]
    }
   ],
   "source": [
    "# Input: 1994\n",
    "# Output: \"MDCCCCLXXXXIV\"\n",
    "# Expected: \"MCMXCIV\"\n",
    "if __name__ == \"__main__\":\n",
    "    print(Solution().intToRoman(1994))"
   ]
  },
  {
   "cell_type": "code",
   "execution_count": null,
   "metadata": {
    "collapsed": true
   },
   "outputs": [],
   "source": []
  }
 ],
 "metadata": {
  "kernelspec": {
   "display_name": "Python 3",
   "language": "python",
   "name": "python3"
  },
  "language_info": {
   "codemirror_mode": {
    "name": "ipython",
    "version": 3
   },
   "file_extension": ".py",
   "mimetype": "text/x-python",
   "name": "python",
   "nbconvert_exporter": "python",
   "pygments_lexer": "ipython3",
   "version": "3.6.0"
  }
 },
 "nbformat": 4,
 "nbformat_minor": 2
}
