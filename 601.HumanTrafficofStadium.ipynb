{
 "cells": [
  {
   "cell_type": "markdown",
   "metadata": {},
   "source": [
    "X city built a new stadium, each day many people visit it and the stats are saved as these columns: id, date, people\n",
    "\n",
    "Please write a query to display the records which have 3 or more consecutive rows and the amount of people more than 100(inclusive).\n",
    "\n",
    "For example, the table stadium:\n",
    "```\n",
    "+------+------------+-----------+\n",
    "| id   | date       | people    |\n",
    "+------+------------+-----------+\n",
    "| 1    | 2017-01-01 | 10        |\n",
    "| 2    | 2017-01-02 | 109       |\n",
    "| 3    | 2017-01-03 | 150       |\n",
    "| 4    | 2017-01-04 | 99        |\n",
    "| 5    | 2017-01-05 | 145       |\n",
    "| 6    | 2017-01-06 | 1455      |\n",
    "| 7    | 2017-01-07 | 199       |\n",
    "| 8    | 2017-01-08 | 188       |\n",
    "+------+------------+-----------+\n",
    "```\n",
    "For the sample data above, the output is:\n",
    "```\n",
    "+------+------------+-----------+\n",
    "| id   | date       | people    |\n",
    "+------+------------+-----------+\n",
    "| 5    | 2017-01-05 | 145       |\n",
    "| 6    | 2017-01-06 | 1455      |\n",
    "| 7    | 2017-01-07 | 199       |\n",
    "| 8    | 2017-01-08 | 188       |\n",
    "+------+------------+-----------+\n",
    "```\n",
    "Note:\n",
    "Each day only have one row record, and the dates are increasing with id increasing."
   ]
  },
  {
   "cell_type": "raw",
   "metadata": {},
   "source": [
    "# Write your MySQL query statement below\n",
    "select distinct t1.* from stadium t1, stadium t2, stadium t3 where \n",
    "t1.people >=100 and t2.people >=100 and t3.people >= 100 and (\n",
    "(t2.id - 1 = t1.id and t2.id + 1 = t3.id) or\n",
    "(t1.id - 1 = t2.id and t1.id + 1 = t3.id) or\n",
    "(t2.id - 1 = t3.id and t2.id + 1 = t1.id)\n",
    ") order by id;"
   ]
  },
  {
   "cell_type": "code",
   "execution_count": null,
   "metadata": {
    "collapsed": true
   },
   "outputs": [],
   "source": [
    "select * from stadium s1\n",
    "where s1.people>=100 and \n",
    "((select count(*) from stadium s2 where s2.id in (s1.id+1,s1.id+2) and s2.people>=100)>=2\n",
    "or (select count(*) from stadium s2 where s2.id in (s1.id+1,s1.id-1) and s2.people>=100)>=2\n",
    "or (select count(*) from stadium s2 where s2.id in (s1.id-2,s1.id-1) and s2.people>=100)>=2)vv"
   ]
  }
 ],
 "metadata": {
  "kernelspec": {
   "display_name": "Python 3",
   "language": "python",
   "name": "python3"
  },
  "language_info": {
   "codemirror_mode": {
    "name": "ipython",
    "version": 3
   },
   "file_extension": ".py",
   "mimetype": "text/x-python",
   "name": "python",
   "nbconvert_exporter": "python",
   "pygments_lexer": "ipython3",
   "version": "3.6.0"
  }
 },
 "nbformat": 4,
 "nbformat_minor": 2
}
