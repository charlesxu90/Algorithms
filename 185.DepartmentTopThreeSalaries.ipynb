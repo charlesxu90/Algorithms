{
 "cells": [
  {
   "cell_type": "markdown",
   "metadata": {},
   "source": [
    "The Employee table holds all employees. Every employee has an Id, and there is also a column for the department Id.\n",
    "```\n",
    "+----+-------+--------+--------------+\n",
    "| Id | Name  | Salary | DepartmentId |\n",
    "+----+-------+--------+--------------+\n",
    "| 1  | Joe   | 70000  | 1            |\n",
    "| 2  | Henry | 80000  | 2            |\n",
    "| 3  | Sam   | 60000  | 2            |\n",
    "| 4  | Max   | 90000  | 1            |\n",
    "| 5  | Janet | 69000  | 1            |\n",
    "| 6  | Randy | 85000  | 1            |\n",
    "+----+-------+--------+--------------+\n",
    "```\n",
    "The Department table holds all departments of the company.\n",
    "```\n",
    "+----+----------+\n",
    "| Id | Name     |\n",
    "+----+----------+\n",
    "| 1  | IT       |\n",
    "| 2  | Sales    |\n",
    "+----+----------+\n",
    "```\n",
    "Write a SQL query to find employees who earn the top three salaries in each of the department. For the above tables, your SQL query should return the following rows.\n",
    "```\n",
    "+------------+----------+--------+\n",
    "| Department | Employee | Salary |\n",
    "+------------+----------+--------+\n",
    "| IT         | Max      | 90000  |\n",
    "| IT         | Randy    | 85000  |\n",
    "| IT         | Joe      | 70000  |\n",
    "| Sales      | Henry    | 80000  |\n",
    "| Sales      | Sam      | 60000  |\n",
    "+------------+----------+--------+\n",
    "```"
   ]
  },
  {
   "cell_type": "raw",
   "metadata": {},
   "source": [
    "Select t2.Name as Department, t1.Name as Employee, t1.Salary \n",
    "from Employee t1 join Department t2 on t1.DepartmentId = t2.Id \n",
    "where 3> (select count(distinct Salary) from Employee e2 where\n",
    "            t1.Salary < e2.Salary and t1.DepartmentId = e2.DepartmentId\n",
    "            )"
   ]
  }
 ],
 "metadata": {
  "kernelspec": {
   "display_name": "Python 3",
   "language": "python",
   "name": "python3"
  },
  "language_info": {
   "codemirror_mode": {
    "name": "ipython",
    "version": 3
   },
   "file_extension": ".py",
   "mimetype": "text/x-python",
   "name": "python",
   "nbconvert_exporter": "python",
   "pygments_lexer": "ipython3",
   "version": "3.6.0"
  }
 },
 "nbformat": 4,
 "nbformat_minor": 2
}
