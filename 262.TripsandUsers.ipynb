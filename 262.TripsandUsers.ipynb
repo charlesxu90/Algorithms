{
 "cells": [
  {
   "cell_type": "markdown",
   "metadata": {},
   "source": [
    "The Trips table holds all taxi trips. Each trip has a unique Id, while Client_Id and Driver_Id are both foreign keys to the Users_Id at the Users table. Status is an ENUM type of (‘completed’, ‘cancelled_by_driver’, ‘cancelled_by_client’).\n",
    "```\n",
    "+----+-----------+-----------+---------+--------------------+----------+\n",
    "| Id | Client_Id | Driver_Id | City_Id |        Status      |Request_at|\n",
    "+----+-----------+-----------+---------+--------------------+----------+\n",
    "| 1  |     1     |    10     |    1    |     completed      |2013-10-01|\n",
    "| 2  |     2     |    11     |    1    | cancelled_by_driver|2013-10-01|\n",
    "| 3  |     3     |    12     |    6    |     completed      |2013-10-01|\n",
    "| 4  |     4     |    13     |    6    | cancelled_by_client|2013-10-01|\n",
    "| 5  |     1     |    10     |    1    |     completed      |2013-10-02|\n",
    "| 6  |     2     |    11     |    6    |     completed      |2013-10-02|\n",
    "| 7  |     3     |    12     |    6    |     completed      |2013-10-02|\n",
    "| 8  |     2     |    12     |    12   |     completed      |2013-10-03|\n",
    "| 9  |     3     |    10     |    12   |     completed      |2013-10-03| \n",
    "| 10 |     4     |    13     |    12   | cancelled_by_driver|2013-10-03|\n",
    "+----+-----------+-----------+---------+--------------------+----------+\n",
    "```\n",
    "The Users table holds all users. Each user has an unique Users_Id, and Role is an ENUM type of (‘client’, ‘driver’, ‘partner’).\n",
    "```\n",
    "+----------+--------+--------+\n",
    "| Users_Id | Banned |  Role  |\n",
    "+----------+--------+--------+\n",
    "|    1     |   No   | client |\n",
    "|    2     |   Yes  | client |\n",
    "|    3     |   No   | client |\n",
    "|    4     |   No   | client |\n",
    "|    10    |   No   | driver |\n",
    "|    11    |   No   | driver |\n",
    "|    12    |   No   | driver |\n",
    "|    13    |   No   | driver |\n",
    "+----------+--------+--------+\n",
    "```\n",
    "Write a SQL query to find the cancellation rate of requests made by unbanned users between Oct 1, 2013 and Oct 3, 2013. For the above tables, your SQL query should return the following rows with the cancellation rate being rounded to two decimal places.\n",
    "```\n",
    "+------------+-------------------+\n",
    "|     Day    | Cancellation Rate |\n",
    "+------------+-------------------+\n",
    "| 2013-10-01 |       0.33        |\n",
    "| 2013-10-02 |       0.00        |\n",
    "| 2013-10-03 |       0.50        |\n",
    "+------------+-------------------+\n",
    "```\n",
    "Credits:\n",
    "Special thanks to @cak1erlizhou for contributing this question, writing the problem description and adding part of the test cases.\n",
    "\n"
   ]
  },
  {
   "cell_type": "raw",
   "metadata": {},
   "source": [
    "# Write your MySQL query statement below\n",
    "select Request_at as Day, \n",
    "    Round(count(case when Status !=\"completed\" then 1 else null end) / count(Status),2) as 'Cancellation Rate' \n",
    "\n",
    "from Trips left join Users \n",
    "on Client_Id = Users_Id\n",
    "where Banned = 'No' and Request_at BETWEEN '2013-10-01' AND '2013-10-03'\n",
    "group by Request_at;"
   ]
  },
  {
   "cell_type": "raw",
   "metadata": {},
   "source": [
    "SELECT t.Request_at as Day, \n",
    "       ROUND(count(case when t.status!='completed' THEN 1 ELSE NULL END)/ COUNT(*),2) as 'Cancellation Rate'\n",
    "\n",
    "from Trips t  \n",
    "\n",
    "INNER JOIN Users u\n",
    "on t.Client_Id  = u.Users_Id\n",
    "\n",
    "WHERE u.Banned='no' AND  t.Request_at BETWEEN '2013-10-01' AND '2013-10-03'\n",
    "GROUP BY t.Request_at\n"
   ]
  }
 ],
 "metadata": {
  "kernelspec": {
   "display_name": "Python 3",
   "language": "python",
   "name": "python3"
  },
  "language_info": {
   "codemirror_mode": {
    "name": "ipython",
    "version": 3
   },
   "file_extension": ".py",
   "mimetype": "text/x-python",
   "name": "python",
   "nbconvert_exporter": "python",
   "pygments_lexer": "ipython3",
   "version": "3.6.0"
  }
 },
 "nbformat": 4,
 "nbformat_minor": 2
}
