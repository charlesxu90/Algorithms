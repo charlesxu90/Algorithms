{
 "cells": [
  {
   "cell_type": "markdown",
   "metadata": {},
   "source": [
    "There is a table courses with columns: student and class\n",
    "\n",
    "Please list out all classes which have more than or equal to 5 students.\n",
    "\n",
    "For example, the table:\n",
    "```\n",
    "+---------+------------+\n",
    "| student | class      |\n",
    "+---------+------------+\n",
    "| A       | Math       |\n",
    "| B       | English    |\n",
    "| C       | Math       |\n",
    "| D       | Biology    |\n",
    "| E       | Math       |\n",
    "| F       | Computer   |\n",
    "| G       | Math       |\n",
    "| H       | Math       |\n",
    "| I       | Math       |\n",
    "+---------+------------+\n",
    "```\n",
    "Should output:\n",
    "```\n",
    "+---------+\n",
    "| class   |\n",
    "+---------+\n",
    "| Math    |\n",
    "+---------+\n",
    "```\n",
    "Note:\n",
    "The students should not be counted duplicate in each course."
   ]
  },
  {
   "cell_type": "markdown",
   "metadata": {},
   "source": [
    "select distinct t1.class from courses t1, (select class, count(distinct student) as sc from courses group by class ) t2 where t2.sc >=5 and t2.class = t1.class;"
   ]
  },
  {
   "cell_type": "raw",
   "metadata": {},
   "source": [
    "SELECT\n",
    "    class\n",
    "FROM\n",
    "    (SELECT\n",
    "        class, COUNT(DISTINCT student) AS num\n",
    "    FROM\n",
    "        courses\n",
    "    GROUP BY class) AS temp_table\n",
    "WHERE\n",
    "    num >= 5\n",
    ";"
   ]
  },
  {
   "cell_type": "markdown",
   "metadata": {},
   "source": [
    "SELECT\n",
    "    class\n",
    "FROM\n",
    "    courses\n",
    "GROUP BY class\n",
    "HAVING COUNT(DISTINCT student) >= 5\n",
    ";"
   ]
  },
  {
   "cell_type": "markdown",
   "metadata": {},
   "source": [
    "select t2.class from (select class, count(distinct student) as sc from courses group by class ) as t2 where t2.sc >=5;"
   ]
  }
 ],
 "metadata": {
  "kernelspec": {
   "display_name": "Python 3",
   "language": "python",
   "name": "python3"
  },
  "language_info": {
   "codemirror_mode": {
    "name": "ipython",
    "version": 3
   },
   "file_extension": ".py",
   "mimetype": "text/x-python",
   "name": "python",
   "nbconvert_exporter": "python",
   "pygments_lexer": "ipython3",
   "version": "3.6.0"
  }
 },
 "nbformat": 4,
 "nbformat_minor": 2
}
