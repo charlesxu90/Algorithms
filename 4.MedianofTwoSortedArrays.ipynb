{
 "cells": [
  {
   "cell_type": "markdown",
   "metadata": {},
   "source": [
    "\n",
    "There are two sorted arrays nums1 and nums2 of size m and n respectively.\n",
    "\n",
    "Find the median of the two sorted arrays. The overall run time complexity should be O(log (m+n)).\n",
    "\n",
    "You may assume nums1 and nums2 cannot be both empty.\n",
    "\n",
    "Example 1:\n",
    "```\n",
    "nums1 = [1, 3]\n",
    "nums2 = [2]\n",
    "```\n",
    "The median is 2.0\n",
    "Example 2:\n",
    "```\n",
    "nums1 = [1, 2]\n",
    "nums2 = [3, 4]\n",
    "```\n",
    "The median is (2 + 3)/2 = 2.5"
   ]
  },
  {
   "cell_type": "code",
   "execution_count": 1,
   "metadata": {
    "collapsed": true
   },
   "outputs": [],
   "source": [
    "class Solution(object):\n",
    "    def findMedianSortedArrays(self, nums1, nums2):\n",
    "        \"\"\"\n",
    "        :type nums1: List[int]\n",
    "        :type nums2: List[int]\n",
    "        :rtype: float\n",
    "        \"\"\"\n",
    "        l = len(nums1) + len(nums2)\n",
    "        if l % 2:\n",
    "            return (self.findKth(nums1, 0, nums2, 0, l / 2 + 1))\n",
    "        else:\n",
    "            return (self.findKth(nums1, 0, nums2, 0, l / 2) + \n",
    "                    self.findKth(nums1, 0, nums2, 0, l / 2 + 1))/2.0\n",
    "    \n",
    "    \n",
    "    def findKth(self, nums1, n1s, nums2, n2s, k):\n",
    "        \"\"\"\n",
    "        :type nums1: List[int]\n",
    "        :type n1s: int\n",
    "        :type nums2: List[int]\n",
    "        :type n2s: int\n",
    "        :type k: int\n",
    "        :rtype: int\n",
    "        \"\"\"\n",
    "        if (len(nums1) - n1s > len(nums2) - n2s):\n",
    "            return self.findKth(nums2, n2s, nums1, n1s, k) # short array ahead\n",
    "        if n1s >= len(nums1):\n",
    "            return nums2[n2s + k - 1]\n",
    "        if (k == 1):\n",
    "            return min(nums1[n1s], nums2[n2s])\n",
    "        \n",
    "        n1i = min(k/2, len(nums1) - n1s) # binary search method to find the kth\n",
    "        n2i = k - n1i\n",
    "        if (nums1[n1s + n1i - 1] < nums2[n2s + n2i - 1]):\n",
    "            return self.findKth(nums1, n1s + n1i, nums2, n2s, k - n1i)\n",
    "        elif nums1[n1s + n1i -1] > nums2[n2s + n2i -1]:\n",
    "            return self.findKth(nums1, n1s, nums2, n2s + n2i, k - n2i)\n",
    "        else:\n",
    "              return nums1[n1s + n1i - 1]\n",
    "        "
   ]
  },
  {
   "cell_type": "code",
   "execution_count": 2,
   "metadata": {
    "collapsed": true
   },
   "outputs": [],
   "source": [
    "class Solution(object):\n",
    "    def findMedianSortedArrays(self, nums1, nums2):\n",
    "        m, n = len(nums1), len(nums2)\n",
    "        if m > n:\n",
    "            nums1, nums2, m, n = nums2, nums1, n, m\n",
    "        if n == 0:\n",
    "            raise ValueError\n",
    "\n",
    "        imin, imax, half_len = 0, m, (m + n + 1) / 2\n",
    "        while imin <= imax:\n",
    "            i = (imin + imax) / 2\n",
    "            j = half_len - i\n",
    "            if i < m and nums2[j-1] > nums1[i]:\n",
    "                # i is too small, must increase it\n",
    "                imin = i + 1\n",
    "            elif i > 0 and nums1[i-1] > nums2[j]:\n",
    "                # i is too big, must decrease it\n",
    "                imax = i - 1\n",
    "            else:\n",
    "                # i is perfect\n",
    "\n",
    "                if i == 0: max_of_left = nums2[j-1]\n",
    "                elif j == 0: max_of_left = nums1[i-1]\n",
    "                else: max_of_left = max(nums1[i-1], nums2[j-1])\n",
    "\n",
    "                if (m + n) % 2 == 1:\n",
    "                    return max_of_left\n",
    "\n",
    "                if i == m: min_of_right = nums2[j]\n",
    "                elif j == n: min_of_right = nums1[i]\n",
    "                else: min_of_right = min(nums1[i], nums2[j])\n",
    "\n",
    "                return (max_of_left + min_of_right) / 2.0"
   ]
  },
  {
   "cell_type": "code",
   "execution_count": null,
   "metadata": {
    "collapsed": true
   },
   "outputs": [],
   "source": [
    " "
   ]
  }
 ],
 "metadata": {
  "kernelspec": {
   "display_name": "Python 3",
   "language": "python",
   "name": "python3"
  },
  "language_info": {
   "codemirror_mode": {
    "name": "ipython",
    "version": 3
   },
   "file_extension": ".py",
   "mimetype": "text/x-python",
   "name": "python",
   "nbconvert_exporter": "python",
   "pygments_lexer": "ipython3",
   "version": "3.6.0"
  }
 },
 "nbformat": 4,
 "nbformat_minor": 2
}
