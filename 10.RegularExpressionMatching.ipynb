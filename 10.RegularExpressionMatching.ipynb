{
 "cells": [
  {
   "cell_type": "markdown",
   "metadata": {},
   "source": [
    "Given an input string (s) and a pattern (p), implement regular expression matching with support for '.' and '*'.\n",
    "\n",
    "- '.' Matches any single character.\n",
    "- '*' Matches zero or more of the preceding element.\n",
    "- The matching should cover the entire input string (not partial).\n",
    "\n",
    "Note:\n",
    "\n",
    "- s could be empty and contains only lowercase letters a-z.\n",
    "- p could be empty and contains only lowercase letters a-z, and characters like . or *.\n",
    "\n",
    "Example 1:\n",
    "```\n",
    "Input:\n",
    "s = \"aa\"\n",
    "p = \"a\"\n",
    "Output: false\n",
    "```\n",
    "Explanation: \"a\" does not match the entire string \"aa\".\n",
    "\n",
    "Example 2:\n",
    "```\n",
    "Input:\n",
    "s = \"aa\"\n",
    "p = \"a*\"\n",
    "Output: true\n",
    "```\n",
    "Explanation: '*' means zero or more of the precedeng element, 'a'. Therefore, by repeating 'a' once, it becomes \"aa\".\n",
    "\n",
    "Example 3:\n",
    "```\n",
    "Input:\n",
    "s = \"ab\"\n",
    "p = \".*\"\n",
    "Output: true\n",
    "```\n",
    "Explanation: \".*\" means \"zero or more (*) of any character (.)\".\n",
    "\n",
    "Example 4:\n",
    "```\n",
    "Input:\n",
    "s = \"aab\"\n",
    "p = \"c*a*b\"\n",
    "Output: true\n",
    "```\n",
    "Explanation: c can be repeated 0 times, a can be repeated 1 time. Therefore it matches \"aab\".\n",
    "\n",
    "Example 5:\n",
    "```\n",
    "Input:\n",
    "s = \"mississippi\"\n",
    "p = \"mis*is*p*.\"\n",
    "Output: false\n",
    "```"
   ]
  },
  {
   "cell_type": "code",
   "execution_count": 17,
   "metadata": {
    "collapsed": false
   },
   "outputs": [],
   "source": [
    "# Solution 1: java way of handle, recursively\n",
    "class Solution(object):\n",
    "    def isMatch(self, s, p):\n",
    "        \"\"\"\n",
    "        :type s: str\n",
    "        :type p: str\n",
    "        :rtype: bool\n",
    "        \"\"\"\n",
    "        return self.isMatched(s,0,p,0)\n",
    "    \n",
    "    def isMatched(self,s,i,p,j):\n",
    "        \"\"\"\n",
    "        :type s: str\n",
    "        :type p: str\n",
    "        :type i: int\n",
    "        :type j: int\n",
    "        :rtype: bool\n",
    "        \"\"\"\n",
    "        if j == len(p): # end of pattern\n",
    "            return i == len(s) # end of string\n",
    "\n",
    "        if (j < len(p)-1 and p[j+1] != '*') or j == len(p) -1: # p[j+1] is not '*', or j is the last \n",
    "            return(i < len(s) and (s[i] == p[j] or p[j] == '.') # exact match or p[j] is '.'\n",
    "                  ) and self.isMatched(s,i+1,p,j+1) # check next\n",
    "        \n",
    "        # p[j+1] is '*', and s[i] and p[j] matches\n",
    "        print(str(i) + ' ' + str(j))\n",
    "        while (i<len(s) and s[i]==p[j]) or (p[j]=='.' and i<len(s)):          # only increase i\n",
    "            print(str(i) + ' ' + str(j))\n",
    "            if self.isMatched(s,i,p,j+2):                      # jump '*' and check\n",
    "                return True\n",
    "            i = i+1\n",
    " \n",
    "        return self.isMatched(s,i,p,j+2)        # when p[i]!= s[i], and jump '*'"
   ]
  },
  {
   "cell_type": "code",
   "execution_count": 18,
   "metadata": {
    "collapsed": false
   },
   "outputs": [
    {
     "name": "stdout",
     "output_type": "stream",
     "text": [
      "0 0\n",
      "0 0\n",
      "1 0\n",
      "2 0\n",
      "True\n"
     ]
    }
   ],
   "source": [
    "if __name__ == \"__main__\":\n",
    "    s = \"aaa\" # \"aba\" \n",
    "    p = \"a*a\" # \"ac*\"\n",
    "    print(Solution().isMatch(s,p))"
   ]
  },
  {
   "cell_type": "code",
   "execution_count": 20,
   "metadata": {
    "collapsed": true
   },
   "outputs": [],
   "source": [
    "# Solution 2: python way of handle, recursively, too slow\n",
    "'''\n",
    "Time Complexity: $O\\big((T+P)2^{T + \\frac{P}{2}}).\n",
    "Space Complexity: $O\\big((T+P)2^{T + \\frac{P}{2}}).\n",
    "'''\n",
    "class Solution(object):\n",
    "    def isMatch(self, text, pattern):\n",
    "        if not pattern:\n",
    "            return not text\n",
    "        first_match = bool(text) and pattern[0] in {text[0], '.'}\n",
    "        \n",
    "        if len(pattern) >=2 and pattern[1] == '*':\n",
    "            return (self.isMatch(text, pattern[2:]) or\n",
    "                   first_match and self.isMatch(text[1:], pattern))\n",
    "        else:\n",
    "            return first_match and self.isMatch(text[1:], pattern[1:])"
   ]
  },
  {
   "cell_type": "code",
   "execution_count": 21,
   "metadata": {
    "collapsed": true
   },
   "outputs": [],
   "source": [
    "# Solution 3: Dynamic programming, top-down variation\n",
    "# Time & Space Complexity: O(TP). With recursion\n",
    "# L(i,j) -- from s[i:] and p[j:] is matched\n",
    "# L(i,j) = case 0: both end, => True\n",
    "#          case 1: p[j+1] = '*' and p[j] = s[i], => L(i+1,j)\n",
    "#          {case 2: p[j] = '.' or p[j] = s[i], =>L(i+1, j+1)\n",
    "#          case 3: p[j] != s[i] and p[j] != '.', => False} The last two can join together\n",
    "\n",
    "class Solution(object):\n",
    "    def isMatch(self, text, pattern):\n",
    "        memo = {}\n",
    "        \n",
    "        def dp(i, j):\n",
    "            if (i, j) not in memo:\n",
    "                if j == len(pattern): #end\n",
    "                    ans = i == len(text)\n",
    "                else:\n",
    "                    first_match = i < len(text) and pattern[j] in {text[i], '.'}\n",
    "                    if j+1 < len(pattern) and pattern[j+1] == '*': # '*'\n",
    "                        ans = dp(i, j+2) or first_match and dp(i+1, j)\n",
    "                    else:\n",
    "                        ans = first_match and dp(i+1, j+1)\n",
    "\n",
    "                memo[i, j] = ans\n",
    "            return memo[i, j]\n",
    "\n",
    "        return dp(0, 0)"
   ]
  },
  {
   "cell_type": "code",
   "execution_count": 22,
   "metadata": {
    "collapsed": true
   },
   "outputs": [],
   "source": [
    "# Solution 4: Dynamic programming, bottom-up variation\n",
    "# Time & Space Complexity: O(TP). No recursion\n",
    "class Solution(object):\n",
    "    def isMatch(self, text, pattern):\n",
    "        dp = [[False] * (len(pattern) + 1) for _ in range(len(text) + 1)] # empty list of n*m\n",
    "\n",
    "        dp[-1][-1] = True # last one is True\n",
    "        for i in range(len(text), -1, -1):\n",
    "            for j in range(len(pattern) - 1, -1, -1):\n",
    "                first_match = i < len(text) and pattern[j] in {text[i], '.'}\n",
    "                if j+1 < len(pattern) and pattern[j+1] == '*':\n",
    "                    dp[i][j] = dp[i][j+2] or first_match and dp[i+1][j]\n",
    "                else:\n",
    "                    dp[i][j] = first_match and dp[i+1][j+1]\n",
    "\n",
    "        return dp[0][0]"
   ]
  },
  {
   "cell_type": "code",
   "execution_count": null,
   "metadata": {
    "collapsed": true
   },
   "outputs": [],
   "source": []
  }
 ],
 "metadata": {
  "kernelspec": {
   "display_name": "Python 3",
   "language": "python",
   "name": "python3"
  },
  "language_info": {
   "codemirror_mode": {
    "name": "ipython",
    "version": 3
   },
   "file_extension": ".py",
   "mimetype": "text/x-python",
   "name": "python",
   "nbconvert_exporter": "python",
   "pygments_lexer": "ipython3",
   "version": "3.6.0"
  }
 },
 "nbformat": 4,
 "nbformat_minor": 2
}
