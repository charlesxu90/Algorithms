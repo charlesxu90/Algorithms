{
 "cells": [
  {
   "cell_type": "markdown",
   "metadata": {},
   "source": [
    "Mary is a teacher in a middle school and she has a table seat storing students' names and their corresponding seat ids.\n",
    "\n",
    "The column id is continuous increment.\n",
    "Mary wants to change seats for the adjacent students.\n",
    "Can you write a SQL query to output the result for Mary?\n",
    "```\n",
    "+---------+---------+\n",
    "|    id   | student |\n",
    "+---------+---------+\n",
    "|    1    | Abbot   |\n",
    "|    2    | Doris   |\n",
    "|    3    | Emerson |\n",
    "|    4    | Green   |\n",
    "|    5    | Jeames  |\n",
    "+---------+---------+\n",
    "```\n",
    "For the sample input, the output is:\n",
    "```\n",
    "+---------+---------+\n",
    "|    id   | student |\n",
    "+---------+---------+\n",
    "|    1    | Doris   |\n",
    "|    2    | Abbot   |\n",
    "|    3    | Green   |\n",
    "|    4    | Emerson |\n",
    "|    5    | Jeames  |\n",
    "+---------+---------+\n",
    "```\n",
    "Note:\n",
    "If the number of students is odd, there is no need to change the last one's seat."
   ]
  },
  {
   "cell_type": "raw",
   "metadata": {},
   "source": [
    "select s1.id, coalesce(s2.student, s1.student) as student\n",
    "from seat s1 left join seat s2\n",
    "    on s2.id = if (s1.id % 2, s1.id + 1, s1.id - 1 )\n",
    "order by s1.id"
   ]
  },
  {
   "cell_type": "raw",
   "metadata": {},
   "source": [
    "SELECT\n",
    "    s1.id, COALESCE(s2.student, s1.student) AS student # COALESCE returns the first val which is not null\n",
    "FROM\n",
    "    seat s1 LEFT JOIN seat s2 \n",
    "    ON ((s1.id + 1) ^ 1) - 1 = s2.id # ^ bitwise or operation. 2 returns 1, 3 returns 4.\n",
    "ORDER BY s1.id;\n"
   ]
  }
 ],
 "metadata": {
  "kernelspec": {
   "display_name": "Python 3",
   "language": "python",
   "name": "python3"
  },
  "language_info": {
   "codemirror_mode": {
    "name": "ipython",
    "version": 3
   },
   "file_extension": ".py",
   "mimetype": "text/x-python",
   "name": "python",
   "nbconvert_exporter": "python",
   "pygments_lexer": "ipython3",
   "version": "3.6.0"
  }
 },
 "nbformat": 4,
 "nbformat_minor": 2
}
