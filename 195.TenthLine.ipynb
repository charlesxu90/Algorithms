{
 "cells": [
  {
   "cell_type": "markdown",
   "metadata": {},
   "source": [
    "Given a text file file.txt, print just the 10th line of the file.\n",
    "\n",
    "Example:\n",
    "\n",
    "Assume that file.txt has the following content:\n",
    "```\n",
    "Line 1\n",
    "Line 2\n",
    "Line 3\n",
    "Line 4\n",
    "Line 5\n",
    "Line 6\n",
    "Line 7\n",
    "Line 8\n",
    "Line 9\n",
    "Line 10\n",
    "```\n",
    "Your script should output the tenth line, which is:\n",
    "````\n",
    "Line 10\n",
    "```\n",
    "Note:\n",
    "1. If the file contains less than 10 lines, what should you output?\n",
    "2. There's at least three different solutions. Try to explore all possibilities."
   ]
  },
  {
   "cell_type": "raw",
   "metadata": {},
   "source": [
    "# 解法1\n",
    "awk '{if ( NR == 10) print $0}' file.txt"
   ]
  },
  {
   "cell_type": "raw",
   "metadata": {},
   "source": [
    "# 解法2\n",
    "awk 'NR == 10' file.txt"
   ]
  },
  {
   "cell_type": "raw",
   "metadata": {},
   "source": [
    "# 解法3\n",
    "sed -n 10p file.txt"
   ]
  },
  {
   "cell_type": "raw",
   "metadata": {},
   "source": [
    "# 解法4\n",
    "tail -n +10 file.txt | head -n 1"
   ]
  },
  {
   "cell_type": "raw",
   "metadata": {},
   "source": [
    "# 解法5\n",
    "head -n 10 file.txt | tail -n +10"
   ]
  },
  {
   "cell_type": "code",
   "execution_count": null,
   "metadata": {
    "collapsed": true
   },
   "outputs": [],
   "source": []
  }
 ],
 "metadata": {
  "kernelspec": {
   "display_name": "Python 3",
   "language": "python",
   "name": "python3"
  },
  "language_info": {
   "codemirror_mode": {
    "name": "ipython",
    "version": 3
   },
   "file_extension": ".py",
   "mimetype": "text/x-python",
   "name": "python",
   "nbconvert_exporter": "python",
   "pygments_lexer": "ipython3",
   "version": "3.6.0"
  }
 },
 "nbformat": 4,
 "nbformat_minor": 2
}
