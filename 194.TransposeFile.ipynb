{
 "cells": [
  {
   "cell_type": "markdown",
   "metadata": {},
   "source": [
    "Given a text file file.txt, transpose its content.\n",
    "\n",
    "You may assume that each row has the same number of columns and each field is separated by the ' ' character.\n",
    "\n",
    "Example:\n",
    "\n",
    "If file.txt has the following content:\n",
    "```\n",
    "name age\n",
    "alice 21\n",
    "ryan 30\n",
    "```\n",
    "Output the following:\n",
    "```\n",
    "name alice ryan\n",
    "age 21 30\n",
    "```"
   ]
  },
  {
   "cell_type": "markdown",
   "metadata": {},
   "source": [
    "Reference Answer 参考答案"
   ]
  },
  {
   "cell_type": "raw",
   "metadata": {},
   "source": [
    "#!/bin/bash\n",
    "awk '\n",
    "{\n",
    "    for(i=1;i<=NF;i++){\n",
    "        if(NR==1){\n",
    "            s[i]=$i;\n",
    "        }else{\n",
    "            s[i]=s[i]\" \"$i;\n",
    "        }\n",
    "    }\n",
    "}  \n",
    "END{\n",
    "    for(i=1;s[i]!=\"\";i++)\n",
    "        print s[i];\n",
    "}\n",
    "' file.txt\n"
   ]
  },
  {
   "cell_type": "code",
   "execution_count": null,
   "metadata": {
    "collapsed": true
   },
   "outputs": [],
   "source": []
  }
 ],
 "metadata": {
  "kernelspec": {
   "display_name": "Python 3",
   "language": "python",
   "name": "python3"
  },
  "language_info": {
   "codemirror_mode": {
    "name": "ipython",
    "version": 3
   },
   "file_extension": ".py",
   "mimetype": "text/x-python",
   "name": "python",
   "nbconvert_exporter": "python",
   "pygments_lexer": "ipython3",
   "version": "3.6.0"
  }
 },
 "nbformat": 4,
 "nbformat_minor": 2
}
