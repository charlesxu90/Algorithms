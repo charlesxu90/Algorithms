{
 "cells": [
  {
   "cell_type": "markdown",
   "metadata": {},
   "source": [
    "Validate if a given string is numeric.\n",
    "```\n",
    "    Some examples:\n",
    "    \"0\" => true\n",
    "    \" 0.1 \" => true\n",
    "    \"abc\" => false\n",
    "    \"1 a\" => false\n",
    "    \"2e10\" => true\n",
    "```\n",
    "Note: It is intended for the problem statement to be ambiguous. You should gather all requirements up front before implementing one."
   ]
  },
  {
   "cell_type": "code",
   "execution_count": 1,
   "metadata": {
    "collapsed": true
   },
   "outputs": [],
   "source": [
    "class Solution(object):\n",
    "    # @param s, a string\n",
    "    # @return a boolean\n",
    "    # @finite automation\n",
    "    def isNumber(self, s):\n",
    "        INVALID = 0\n",
    "        SPACE = 1\n",
    "        SIGN = 2\n",
    "        DIGIT = 3\n",
    "        DOT = 4\n",
    "        EXPONENT = 5\n",
    "        # 0invalid,1space,2sign,3digit,4dot,5exponent,6num_inputs\n",
    "        transitionTable = [[-1, 0, 3, 1, 2, -1],  # 0 no input or just spaces\n",
    "                           [-1, 8, -1, 1, 4, 5],  # 1 input is digits\n",
    "                           [-1, -1, -1, 4, -1, -1],  # 2 no digits in front just Dot\n",
    "                           [-1, -1, -1, 1, 2, -1],  # 3 sign\n",
    "                           [-1, 8, -1, 4, -1, 5],  # 4 digits and dot in front\n",
    "                           [-1, -1, 6, 7, -1, -1],  # 5 input 'e' or 'E'\n",
    "                           [-1, -1, -1, 7, -1, -1],  # 6 after 'e' input sign\n",
    "                           [-1, 8, -1, 7, -1, -1],  # 7 after 'e' input digits\n",
    "                           [-1, 8, -1, -1, -1, -1]]  # 8 after valid input input space\n",
    "        state = 0\n",
    "        i = 0\n",
    "        while i < len(s):\n",
    "            inputtype = INVALID\n",
    "            if s[i] == ' ':\n",
    "                inputtype = SPACE\n",
    "            elif s[i] == '-' or s[i] == '+':\n",
    "                inputtype = SIGN\n",
    "            elif s[i] in '0123456789':\n",
    "                inputtype = DIGIT\n",
    "            elif s[i] == '.':\n",
    "                inputtype = DOT\n",
    "            elif s[i] == 'e' or s[i] == 'E':\n",
    "                inputtype = EXPONENT\n",
    "\n",
    "            state = transitionTable[state][inputtype]\n",
    "            if state == -1:\n",
    "                return False\n",
    "            else:\n",
    "                i += 1\n",
    "        return state == 1 or state == 4 or state == 7 or state == 8"
   ]
  },
  {
   "cell_type": "code",
   "execution_count": 2,
   "metadata": {
    "collapsed": false
   },
   "outputs": [
    {
     "name": "stdout",
     "output_type": "stream",
     "text": [
      "True\n"
     ]
    }
   ],
   "source": [
    "if __name__ == '__main__':\n",
    "    ret = Solution().isNumber(\"0\")\n",
    "    print(ret)\n"
   ]
  },
  {
   "cell_type": "code",
   "execution_count": null,
   "metadata": {
    "collapsed": true
   },
   "outputs": [],
   "source": []
  }
 ],
 "metadata": {
  "kernelspec": {
   "display_name": "Python 3",
   "language": "python",
   "name": "python3"
  },
  "language_info": {
   "codemirror_mode": {
    "name": "ipython",
    "version": 3
   },
   "file_extension": ".py",
   "mimetype": "text/x-python",
   "name": "python",
   "nbconvert_exporter": "python",
   "pygments_lexer": "ipython3",
   "version": "3.6.0"
  }
 },
 "nbformat": 4,
 "nbformat_minor": 2
}
