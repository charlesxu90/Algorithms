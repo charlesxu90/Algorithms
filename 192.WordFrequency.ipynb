{
 "cells": [
  {
   "cell_type": "markdown",
   "metadata": {},
   "source": [
    "Write a bash script to calculate the frequency of each word in a text file words.txt.\n",
    "\n",
    "For simplicity sake, you may assume:\n",
    "\n",
    "* words.txt contains only lowercase characters and space ' ' characters.\n",
    "* Each word must consist of lowercase characters only.\n",
    "* Words are separated by one or more whitespace characters.\n",
    "Example:\n",
    "\n",
    "Assume that words.txt has the following content:\n",
    "```\n",
    "the day is sunny the the\n",
    "the sunny is is\n",
    "```\n",
    "Your script should output the following, sorted by descending frequency:\n",
    "```\n",
    "the 4\n",
    "is 3\n",
    "sunny 2\n",
    "day 1\n",
    "```\n",
    "Note:\n",
    "\n",
    "Don't worry about handling ties, it is guaranteed that each word's frequency count is unique.\n",
    "Could you write it in one-line using Unix pipes?"
   ]
  },
  {
   "cell_type": "raw",
   "metadata": {},
   "source": [
    "# 思路 将文件中的所有空格换成换行（cat, tr），每一行都是一个word（sort, uniq）然后输出。\n",
    "cat words.txt | tr -s ' ' '\\n' | sort | uniq -c | sort -r | awk '{ print $2, $1 }'"
   ]
  },
  {
   "cell_type": "code",
   "execution_count": null,
   "metadata": {
    "collapsed": true
   },
   "outputs": [],
   "source": []
  }
 ],
 "metadata": {
  "kernelspec": {
   "display_name": "Python 3",
   "language": "python",
   "name": "python3"
  },
  "language_info": {
   "codemirror_mode": {
    "name": "ipython",
    "version": 3
   },
   "file_extension": ".py",
   "mimetype": "text/x-python",
   "name": "python",
   "nbconvert_exporter": "python",
   "pygments_lexer": "ipython3",
   "version": "3.6.0"
  }
 },
 "nbformat": 4,
 "nbformat_minor": 2
}
