{
 "cells": [
  {
   "cell_type": "markdown",
   "metadata": {},
   "source": [
    "Implement function ToLowerCase() that has a string parameter str, and returns the same string in lowercase.\n",
    "\n",
    "Example 1:\n",
    "```javascript\n",
    "Input: \"Hello\"\n",
    "Output: \"hello\"\n",
    "```\n",
    "Example 2:\n",
    "```javascript\n",
    "Input: \"here\"\n",
    "Output: \"here\"\n",
    "```\n",
    "Example 3:\n",
    "```javascript\n",
    "Input: \"LOVELY\"\n",
    "Output: \"lovely\"\n",
    "```"
   ]
  },
  {
   "cell_type": "code",
   "execution_count": 7,
   "metadata": {
    "collapsed": false
   },
   "outputs": [],
   "source": [
    "class Solution(object):\n",
    "    def toLowerCase(self, str):\n",
    "        \"\"\"\n",
    "        type: str, str\n",
    "        rtype: str\n",
    "        \"\"\"\n",
    "        return str.lower()"
   ]
  },
  {
   "cell_type": "code",
   "execution_count": 8,
   "metadata": {
    "collapsed": false
   },
   "outputs": [
    {
     "name": "stdout",
     "output_type": "stream",
     "text": [
      "hello\n",
      "here\n",
      "lovely\n"
     ]
    }
   ],
   "source": [
    "if __name__ == '__main__':\n",
    "    sol = Solution()\n",
    "    print(sol.toLowerCase(\"Hello\"))\n",
    "    print(sol.toLowerCase(\"here\"))\n",
    "    print(sol.toLowerCase(\"LOVELY\"))"
   ]
  },
  {
   "cell_type": "code",
   "execution_count": null,
   "metadata": {
    "collapsed": true
   },
   "outputs": [],
   "source": []
  }
 ],
 "metadata": {
  "kernelspec": {
   "display_name": "Python 3",
   "language": "python",
   "name": "python3"
  },
  "language_info": {
   "codemirror_mode": {
    "name": "ipython",
    "version": 3
   },
   "file_extension": ".py",
   "mimetype": "text/x-python",
   "name": "python",
   "nbconvert_exporter": "python",
   "pygments_lexer": "ipython3",
   "version": "3.6.0"
  }
 },
 "nbformat": 4,
 "nbformat_minor": 2
}
