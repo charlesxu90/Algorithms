{
 "cells": [
  {
   "cell_type": "markdown",
   "metadata": {},
   "source": [
    "Given a singly linked list, determine if it is a palindrome.\n",
    "\n",
    "Example 1:\n",
    "```\n",
    "Input: 1->2\n",
    "Output: false\n",
    "```\n",
    "Example 2:\n",
    "```\n",
    "Input: 1->2->2->1\n",
    "Output: true\n",
    "```\n",
    "Follow up:\n",
    "Could you do it in O(n) time and O(1) space?"
   ]
  },
  {
   "cell_type": "code",
   "execution_count": 2,
   "metadata": {
    "collapsed": true
   },
   "outputs": [],
   "source": [
    "# Definition for singly-linked list.\n",
    "class ListNode:\n",
    "    def __init__(self, x):\n",
    "        self.val = x\n",
    "        self.next = None"
   ]
  },
  {
   "cell_type": "code",
   "execution_count": 3,
   "metadata": {
    "collapsed": true
   },
   "outputs": [],
   "source": [
    "# Solution 1: using string List\n",
    "\n",
    "class Solution:\n",
    "    def isPalindrome(self, head):\n",
    "        \"\"\"\n",
    "        :type head: ListNode\n",
    "        :rtype: bool\n",
    "        \"\"\"\n",
    "        val = 0\n",
    "        p = head\n",
    "        v_str = []\n",
    "        while(p != None):\n",
    "            v_str.append(p.val)\n",
    "            p = p.next\n",
    "        rv_str = v_str[::-1]\n",
    "        n = len(v_str)\n",
    "        for i in range(n):\n",
    "            if v_str[i] != rv_str[i]:\n",
    "                return False\n",
    "        return True"
   ]
  },
  {
   "cell_type": "code",
   "execution_count": 5,
   "metadata": {
    "collapsed": true
   },
   "outputs": [],
   "source": [
    "# Solution 2: using string List\n",
    "\n",
    "class Solution:\n",
    "    def isPalindrome(self, head):\n",
    "        \"\"\"\n",
    "        :type head: ListNode\n",
    "        :rtype: bool\n",
    "        \"\"\"\n",
    "        v_str = []\n",
    "        while(head != None):\n",
    "            v_str.append(head.val)\n",
    "            head = head.next\n",
    "        if v_str == v_str[::-1]:\n",
    "            return True\n",
    "        return False"
   ]
  },
  {
   "cell_type": "code",
   "execution_count": null,
   "metadata": {
    "collapsed": true
   },
   "outputs": [],
   "source": []
  }
 ],
 "metadata": {
  "kernelspec": {
   "display_name": "Python 3",
   "language": "python",
   "name": "python3"
  },
  "language_info": {
   "codemirror_mode": {
    "name": "ipython",
    "version": 3
   },
   "file_extension": ".py",
   "mimetype": "text/x-python",
   "name": "python",
   "nbconvert_exporter": "python",
   "pygments_lexer": "ipython3",
   "version": "3.6.0"
  }
 },
 "nbformat": 4,
 "nbformat_minor": 2
}
