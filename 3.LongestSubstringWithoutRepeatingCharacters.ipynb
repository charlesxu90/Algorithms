{
 "cells": [
  {
   "cell_type": "markdown",
   "metadata": {},
   "source": [
    "Given a string, find the length of the longest substring without repeating characters.\n",
    "\n",
    "Example 1:\n",
    "```\n",
    "Input: \"abcabcbb\"\n",
    "Output: 3 \n",
    "```\n",
    "Explanation: The answer is \"abc\", which the length is 3.\n",
    "Example 2:\n",
    "```\n",
    "Input: \"bbbbb\"\n",
    "Output: 1\n",
    "```\n",
    "Explanation: The answer is \"b\", with the length of 1.\n",
    "Example 3:\n",
    "```\n",
    "Input: \"pwwkew\"\n",
    "Output: 3\n",
    "```\n",
    "Explanation: The answer is \"wke\", with the length of 3. \n",
    "\n",
    "Note that the answer must be a substring, \"pwke\" is a subsequence and not a substring.\n"
   ]
  },
  {
   "cell_type": "code",
   "execution_count": 7,
   "metadata": {
    "collapsed": false
   },
   "outputs": [],
   "source": [
    "# Approach 1: Brute Force\n",
    "class Solution(object):\n",
    "    def lengthOfLongestSubstring(self, s):\n",
    "        \"\"\"\n",
    "        :type s: str\n",
    "        :rtype: int\n",
    "        \"\"\"\n",
    "        n = len(s)\n",
    "        ans = 0\n",
    "        for i in range(0, n):\n",
    "            for j in range(i+1, n+1):\n",
    "                if (self.allUnique(s,i,j)):\n",
    "                    ans = max(ans, j-i)\n",
    "        return ans\n",
    "    \n",
    "    def allUnique(self, s, start, end):\n",
    "        substr = s[start:end]\n",
    "        if len(substr) != len(set(substr)):\n",
    "            return False\n",
    "        return True"
   ]
  },
  {
   "cell_type": "code",
   "execution_count": 8,
   "metadata": {
    "collapsed": true
   },
   "outputs": [],
   "source": [
    "# Approach 2: Sliding Window\n",
    "class Solution(object):\n",
    "    def lengthOfLongestSubstring(self, s):\n",
    "        \"\"\"\n",
    "        :type s: str\n",
    "        :rtype: int\n",
    "        \"\"\"\n",
    "        n = len(s)\n",
    "        s_set = set()\n",
    "        ans = i = j = 0\n",
    "        while ( i < n and j < n):\n",
    "            if s[j] not in s_set :\n",
    "                s_set.add(s[j])\n",
    "                j = j + 1\n",
    "                ans = max(ans, j - i)\n",
    "            else:\n",
    "                s_set.remove(s[i])\n",
    "                i = i + 1\n",
    "           \n",
    "        return ans"
   ]
  },
  {
   "cell_type": "code",
   "execution_count": 10,
   "metadata": {
    "collapsed": false
   },
   "outputs": [],
   "source": [
    "# Approach 3: Sliding Window Optimized\n",
    "class Solution(object):\n",
    "    def lengthOfLongestSubstring(self, s):\n",
    "        \"\"\"\n",
    "        :type s: str\n",
    "        :rtype: int\n",
    "        \"\"\"\n",
    "        n = len(s)\n",
    "        ans = i = j = 0\n",
    "        s_dict = dict()\n",
    "        while (j < n):\n",
    "            if s_dict.get(s[j]) is not None:\n",
    "                i = max(s_dict.get(s[j]), i)\n",
    "            ans = max(ans, j - i + 1)\n",
    "            s_dict[s[j]] = j + 1\n",
    "            j = j + 1\n",
    "            \n",
    "        return ans"
   ]
  }
 ],
 "metadata": {
  "kernelspec": {
   "display_name": "Python 3",
   "language": "python",
   "name": "python3"
  },
  "language_info": {
   "codemirror_mode": {
    "name": "ipython",
    "version": 3
   },
   "file_extension": ".py",
   "mimetype": "text/x-python",
   "name": "python",
   "nbconvert_exporter": "python",
   "pygments_lexer": "ipython3",
   "version": "3.6.0"
  }
 },
 "nbformat": 4,
 "nbformat_minor": 2
}
